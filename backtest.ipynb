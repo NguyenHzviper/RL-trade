{
 "cells": [
  {
   "cell_type": "code",
   "execution_count": 19,
   "metadata": {},
   "outputs": [
    {
     "name": "stdout",
     "output_type": "stream",
     "text": [
      "Start                     2020-09-22 06:00:00\n",
      "End                       2023-07-25 23:00:00\n",
      "Duration                   1036 days 17:00:00\n",
      "Exposure Time [%]                   70.481223\n",
      "Equity Final [$]                    1505.7063\n",
      "Equity Peak [$]                     4400.5163\n",
      "Return [%]                           50.57063\n",
      "Buy & Hold Return [%]               173.09418\n",
      "Return (Ann.) [%]                   15.542556\n",
      "Volatility (Ann.) [%]              159.871643\n",
      "Sharpe Ratio                         0.097219\n",
      "Sortino Ratio                        0.220265\n",
      "Calmar Ratio                         0.206525\n",
      "Max. Drawdown [%]                  -75.257533\n",
      "Avg. Drawdown [%]                   -9.992377\n",
      "Max. Drawdown Duration      479 days 11:00:00\n",
      "Avg. Drawdown Duration       21 days 00:00:00\n",
      "# Trades                                 1011\n",
      "Win Rate [%]                        44.312562\n",
      "Best Trade [%]                      23.193443\n",
      "Worst Trade [%]                    -41.122744\n",
      "Avg. Trade [%]                       0.042548\n",
      "Max. Trade Duration           4 days 03:00:00\n",
      "Avg. Trade Duration           0 days 17:00:00\n",
      "Profit Factor                        1.115657\n",
      "Expectancy [%]                       0.203974\n",
      "SQN                                  0.143234\n",
      "_strategy                          MyStrategy\n",
      "_equity_curve                             ...\n",
      "_trades                         Size  Entr...\n",
      "dtype: object\n"
     ]
    }
   ],
   "source": [
    "from backtesting import Backtest, Strategy\n",
    "from backtesting.lib import crossover\n",
    "\n",
    "from backtesting.test import GOOG\n",
    "import talib\n",
    "import pandas as pd\n",
    "\n",
    "AVAX = pd.read_csv('AVAX_1h.csv')\n",
    "AVAX['Date'] = pd.to_datetime(AVAX['Date'], format='%m/%d/%Y %H:%M')\n",
    "# Set the 'Date' column as the index\n",
    "AVAX.set_index('Date', inplace=True)\n",
    "AVAX.sort_index(inplace=True)\n",
    "\n",
    "# print(AVAX.head())\n",
    "\n",
    "class MyStrategy(Strategy):\n",
    "    def init(self):\n",
    "        self.long_position = False\n",
    "        self.short_position = False\n",
    "\n",
    "    def next(self):\n",
    "        rsi = talib.RSI(self.data.Close, timeperiod=14)\n",
    "        # Compute moving averages\n",
    "        ma5 = talib.SMA(self.data.Close, timeperiod=5)\n",
    "        ma8 = talib.SMA(self.data.Close, timeperiod=8)\n",
    "        # Compute MACD\n",
    "        macd, signal, _ = talib.MACD(self.data.Close, fastperiod=12, slowperiod=26, signalperiod=9)\n",
    "\n",
    "        if (rsi[-1] < 30 or crossover(ma5, ma8) or crossover(macd, signal)) and not self.long_position:\n",
    "            self.buy()\n",
    "            self.long_position = True\n",
    "        elif (rsi[-1] > 70 or crossover(signal, macd)) and self.long_position:\n",
    "            self.position.close()\n",
    "            # self.sell()\n",
    "            # self.short_position = True\n",
    "            self.long_position = False\n",
    "\n",
    "\n",
    "bt = Backtest(AVAX, MyStrategy,cash=1000)\n",
    "\n",
    "output = bt.run()\n",
    "print(output)\n",
    "# bt.plot(resample = '1H')"
   ]
  }
 ],
 "metadata": {
  "kernelspec": {
   "display_name": "env_dlearning",
   "language": "python",
   "name": "python3"
  },
  "language_info": {
   "codemirror_mode": {
    "name": "ipython",
    "version": 3
   },
   "file_extension": ".py",
   "mimetype": "text/x-python",
   "name": "python",
   "nbconvert_exporter": "python",
   "pygments_lexer": "ipython3",
   "version": "3.10.8"
  },
  "orig_nbformat": 4
 },
 "nbformat": 4,
 "nbformat_minor": 2
}
