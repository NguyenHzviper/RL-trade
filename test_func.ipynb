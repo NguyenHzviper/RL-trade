{
 "cells": [
  {
   "cell_type": "code",
   "execution_count": 94,
   "metadata": {},
   "outputs": [],
   "source": [
    "import alpaca_trade_api as alpaca\n",
    "import pandas as pd\n",
    "import numpy as np\n",
    "import matplotlib.pyplot as plt\n",
    "import datetime\n",
    "import json\n",
    "import requests\n",
    "import yfinance as yf\n"
   ]
  },
  {
   "cell_type": "code",
   "execution_count": 95,
   "metadata": {},
   "outputs": [],
   "source": [
    "end_point = 'https://paper-api.alpaca.markets'\n",
    "api_key = 'PKIQ2QKAFZ51W05KKKD3'\n",
    "api_secret='0fMdgavxKPkHaYR0l8sJ2gKc3eiHHXKDUMbuYGsT'"
   ]
  },
  {
   "cell_type": "code",
   "execution_count": 96,
   "metadata": {},
   "outputs": [],
   "source": [
    "# Symbols for the cryptocurrencies we'd like to buy.\n",
    "btc = \"BTCUSD\"\n",
    "eth = \"ETHUSD\""
   ]
  },
  {
   "cell_type": "code",
   "execution_count": 97,
   "metadata": {},
   "outputs": [],
   "source": [
    "api = alpaca.REST(api_key, api_secret, end_point, api_version='v2')\n"
   ]
  },
  {
   "cell_type": "code",
   "execution_count": 98,
   "metadata": {},
   "outputs": [],
   "source": [
    "account = api.get_account()"
   ]
  },
  {
   "cell_type": "code",
   "execution_count": 100,
   "metadata": {},
   "outputs": [
    {
     "data": {
      "text/plain": [
       "99793.49667117621"
      ]
     },
     "execution_count": 100,
     "metadata": {},
     "output_type": "execute_result"
    }
   ],
   "source": [
    "# Getting our account's cash and splitting the available cash.\n",
    "account_cash = float(account.cash)\n",
    "account_cash"
   ]
  },
  {
   "cell_type": "code",
   "execution_count": 88,
   "metadata": {},
   "outputs": [],
   "source": [
    "# Get price\n",
    "def get_lasted_price(symbol):\n",
    "    ticker = yf.Ticker(symbol)\n",
    "    data = ticker.history()\n",
    "    market_price = data['Close'].iloc[-1]\n",
    "    return float(market_price)"
   ]
  },
  {
   "cell_type": "code",
   "execution_count": 89,
   "metadata": {},
   "outputs": [
    {
     "data": {
      "text/plain": [
       "30386.134765625"
      ]
     },
     "execution_count": 89,
     "metadata": {},
     "output_type": "execute_result"
    }
   ],
   "source": [
    "get_lasted_price(\"BTC-USD\")"
   ]
  },
  {
   "cell_type": "code",
   "execution_count": 90,
   "metadata": {},
   "outputs": [],
   "source": [
    "# This function will calculate the number of units one can afford given cash to spend and latest price, and round it down according to order of the precision factor.\n",
    "def calculate_order_size(cash_to_spend, latest_price):\n",
    " precision_factor = 10000\n",
    " units_to_buy = float(cash_to_spend * precision_factor / latest_price)\n",
    " units_to_buy /= precision_factor\n",
    " return units_to_buy"
   ]
  },
  {
   "cell_type": "code",
   "execution_count": 91,
   "metadata": {},
   "outputs": [],
   "source": [
    "btc_latest_price = get_lasted_price(\"BTC-USD\")\n",
    "eth_latest_price = get_lasted_price(\"ETH-USD\")\n",
    "\n",
    "btc_units = calculate_order_size(100, btc_latest_price)\n",
    "eth_units = calculate_order_size(100, eth_latest_price)"
   ]
  },
  {
   "cell_type": "code",
   "execution_count": 92,
   "metadata": {},
   "outputs": [],
   "source": [
    "def buy(symbol, qty):\n",
    "    api.submit_order(symbol=symbol, qty=qty,side='buy', type='market', time_in_force='gtc')\n",
    "\n",
    "def sell(symbol, qty):\n",
    "    api.submit_order(symbol=symbol, qty=qty,side='sell', type='market', time_in_force='gtc')"
   ]
  },
  {
   "cell_type": "code",
   "execution_count": 93,
   "metadata": {},
   "outputs": [],
   "source": [
    "buy(btc, btc_units)\n",
    "buy(eth, eth_units)"
   ]
  }
 ],
 "metadata": {
  "kernelspec": {
   "display_name": "env_dlearning",
   "language": "python",
   "name": "python3"
  },
  "language_info": {
   "codemirror_mode": {
    "name": "ipython",
    "version": 3
   },
   "file_extension": ".py",
   "mimetype": "text/x-python",
   "name": "python",
   "nbconvert_exporter": "python",
   "pygments_lexer": "ipython3",
   "version": "3.10.8"
  },
  "orig_nbformat": 4
 },
 "nbformat": 4,
 "nbformat_minor": 2
}
