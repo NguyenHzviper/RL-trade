{
 "cells": [
  {
   "cell_type": "code",
   "execution_count": 7,
   "metadata": {},
   "outputs": [
    {
     "name": "stdout",
     "output_type": "stream",
     "text": [
      "[*********************100%***********************]  3 of 3 completed\n"
     ]
    }
   ],
   "source": [
    "import yfinance as yf\n",
    "import pandas as pd\n",
    "\n",
    "ticker = ['BTC-USD', 'ETH-USD', 'AVAX-USD']\n",
    "start_date = '2018-01-01'\n",
    "end_date = '2019-08-05'\n",
    "interval = '1d'\n",
    "\n",
    "data = yf.download(ticker, start=start_date, end=end_date, interval=interval)\n",
    "closing_price = data['Close']\n",
    "closing_price = closing_price.reset_index(drop = True)\n",
    "closing_price.to_csv('aapl_msi_sbux_new.csv', index = False)"
   ]
  },
  {
   "cell_type": "code",
   "execution_count": 15,
   "metadata": {},
   "outputs": [
    {
     "ename": "KeyError",
     "evalue": "'Time Series (60min)'",
     "output_type": "error",
     "traceback": [
      "\u001b[1;31m---------------------------------------------------------------------------\u001b[0m",
      "\u001b[1;31mKeyError\u001b[0m                                  Traceback (most recent call last)",
      "\u001b[1;32md:\\machine_learning_examples\\tf2.0\\draw_data.ipynb Cell 2\u001b[0m in \u001b[0;36m2\n\u001b[0;32m     <a href='vscode-notebook-cell:/d%3A/machine_learning_examples/tf2.0/draw_data.ipynb#W3sZmlsZQ%3D%3D?line=18'>19</a>\u001b[0m data \u001b[39m=\u001b[39m pd\u001b[39m.\u001b[39mDataFrame()\n\u001b[0;32m     <a href='vscode-notebook-cell:/d%3A/machine_learning_examples/tf2.0/draw_data.ipynb#W3sZmlsZQ%3D%3D?line=19'>20</a>\u001b[0m \u001b[39mfor\u001b[39;00m t \u001b[39min\u001b[39;00m ticker:\n\u001b[1;32m---> <a href='vscode-notebook-cell:/d%3A/machine_learning_examples/tf2.0/draw_data.ipynb#W3sZmlsZQ%3D%3D?line=20'>21</a>\u001b[0m     df \u001b[39m=\u001b[39m get_alpha_vantage_data(t, interval, api_key)\n\u001b[0;32m     <a href='vscode-notebook-cell:/d%3A/machine_learning_examples/tf2.0/draw_data.ipynb#W3sZmlsZQ%3D%3D?line=21'>22</a>\u001b[0m     data[t] \u001b[39m=\u001b[39m df[\u001b[39m'\u001b[39m\u001b[39mClose\u001b[39m\u001b[39m'\u001b[39m]\n\u001b[0;32m     <a href='vscode-notebook-cell:/d%3A/machine_learning_examples/tf2.0/draw_data.ipynb#W3sZmlsZQ%3D%3D?line=23'>24</a>\u001b[0m data\u001b[39m.\u001b[39mto_csv(\u001b[39m'\u001b[39m\u001b[39mcrypto_prices_1h.csv\u001b[39m\u001b[39m'\u001b[39m)\n",
      "\u001b[1;32md:\\machine_learning_examples\\tf2.0\\draw_data.ipynb Cell 2\u001b[0m in \u001b[0;36m1\n\u001b[0;32m     <a href='vscode-notebook-cell:/d%3A/machine_learning_examples/tf2.0/draw_data.ipynb#W3sZmlsZQ%3D%3D?line=10'>11</a>\u001b[0m response \u001b[39m=\u001b[39m requests\u001b[39m.\u001b[39mget(url)\n\u001b[0;32m     <a href='vscode-notebook-cell:/d%3A/machine_learning_examples/tf2.0/draw_data.ipynb#W3sZmlsZQ%3D%3D?line=11'>12</a>\u001b[0m data \u001b[39m=\u001b[39m response\u001b[39m.\u001b[39mjson()\n\u001b[1;32m---> <a href='vscode-notebook-cell:/d%3A/machine_learning_examples/tf2.0/draw_data.ipynb#W3sZmlsZQ%3D%3D?line=12'>13</a>\u001b[0m df \u001b[39m=\u001b[39m pd\u001b[39m.\u001b[39mDataFrame(data[\u001b[39m'\u001b[39;49m\u001b[39mTime Series (\u001b[39;49m\u001b[39m{}\u001b[39;49;00m\u001b[39m)\u001b[39;49m\u001b[39m'\u001b[39;49m\u001b[39m.\u001b[39;49mformat(interval)])\u001b[39m.\u001b[39mT\n\u001b[0;32m     <a href='vscode-notebook-cell:/d%3A/machine_learning_examples/tf2.0/draw_data.ipynb#W3sZmlsZQ%3D%3D?line=13'>14</a>\u001b[0m df \u001b[39m=\u001b[39m df\u001b[39m.\u001b[39mrename(columns\u001b[39m=\u001b[39m{\u001b[39m'\u001b[39m\u001b[39m4. close\u001b[39m\u001b[39m'\u001b[39m: \u001b[39m'\u001b[39m\u001b[39mClose\u001b[39m\u001b[39m'\u001b[39m})\n\u001b[0;32m     <a href='vscode-notebook-cell:/d%3A/machine_learning_examples/tf2.0/draw_data.ipynb#W3sZmlsZQ%3D%3D?line=14'>15</a>\u001b[0m df\u001b[39m.\u001b[39mindex \u001b[39m=\u001b[39m pd\u001b[39m.\u001b[39mto_datetime(df\u001b[39m.\u001b[39mindex)\n",
      "\u001b[1;31mKeyError\u001b[0m: 'Time Series (60min)'"
     ]
    }
   ],
   "source": [
    "import pandas as pd\n",
    "import requests\n",
    "\n",
    "api_key = 'YOUR_ALPHA_VANTAGE_API_KEY'\n",
    "ticker = ['BTC-USD', 'ETH-USD', 'AVAX-USD']\n",
    "interval = '60min'  # 1-hour interval\n",
    "api_key = 'YDMYE2XF3ZXW9HGQ'\n",
    "\n",
    "def get_alpha_vantage_data(ticker, interval, api_key):\n",
    "    url = f'https://www.alphavantage.co/query?function=TIME_SERIES_INTRADAY&symbol={ticker}&interval={interval}&apikey={api_key}'\n",
    "    response = requests.get(url)\n",
    "    data = response.json()\n",
    "    df = pd.DataFrame(data['Time Series ({})'.format(interval)]).T\n",
    "    df = df.rename(columns={'4. close': 'Close'})\n",
    "    df.index = pd.to_datetime(df.index)\n",
    "    df['Close'] = df['Close'].astype(float)\n",
    "    return df\n",
    "\n",
    "data = pd.DataFrame()\n",
    "for t in ticker:\n",
    "    df = get_alpha_vantage_data(t, interval, api_key)\n",
    "    data[t] = df['Close']\n",
    "\n",
    "data.to_csv('crypto_prices_1h.csv')\n"
   ]
  },
  {
   "cell_type": "code",
   "execution_count": null,
   "metadata": {},
   "outputs": [],
   "source": []
  }
 ],
 "metadata": {
  "kernelspec": {
   "display_name": "env_dlearning",
   "language": "python",
   "name": "python3"
  },
  "language_info": {
   "codemirror_mode": {
    "name": "ipython",
    "version": 3
   },
   "file_extension": ".py",
   "mimetype": "text/x-python",
   "name": "python",
   "nbconvert_exporter": "python",
   "pygments_lexer": "ipython3",
   "version": "3.10.8"
  },
  "orig_nbformat": 4
 },
 "nbformat": 4,
 "nbformat_minor": 2
}
